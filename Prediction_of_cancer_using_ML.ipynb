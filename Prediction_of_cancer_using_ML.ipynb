{
  "nbformat": 4,
  "nbformat_minor": 0,
  "metadata": {
    "colab": {
      "name": "Prediction of cancer using ML.ipynb",
      "provenance": [],
      "collapsed_sections": [],
      "authorship_tag": "ABX9TyPRF+FWOIsNpM3fAm9UcDYC",
      "include_colab_link": true
    },
    "kernelspec": {
      "name": "python3",
      "display_name": "Python 3"
    },
    "language_info": {
      "name": "python"
    }
  },
  "cells": [
    {
      "cell_type": "markdown",
      "metadata": {
        "id": "view-in-github",
        "colab_type": "text"
      },
      "source": [
        "<a href=\"https://colab.research.google.com/github/Angelin/binary-classifier/blob/main/Prediction_of_cancer_using_ML.ipynb\" target=\"_parent\"><img src=\"https://colab.research.google.com/assets/colab-badge.svg\" alt=\"Open In Colab\"/></a>"
      ]
    },
    {
      "cell_type": "code",
      "metadata": {
        "id": "bn35jBw4m9R7"
      },
      "source": [
        "import numpy as np\n",
        "import pandas as pd\n",
        "import seaborn as seaborn\n",
        "import matplotlib.pyplot as plt\n",
        "from sklearn.datasets import load_breast_cancer\n",
        "\n",
        "# Load the cancer dataset\n",
        "dataset = load_breast_cancer()"
      ],
      "execution_count": 1,
      "outputs": []
    },
    {
      "cell_type": "code",
      "metadata": {
        "colab": {
          "base_uri": "https://localhost:8080/"
        },
        "id": "kOfxdy4xrmA0",
        "outputId": "75a42ba6-acf1-42b3-dcf2-51fd4b6e7265"
      },
      "source": [
        "# Finding the census of types of cancer\n",
        "(unique, counts) = np.unique(dataset['target'], return_counts=True)\n",
        "print('Types of cancer  : ', dataset['target_names'])\n",
        "print('Corresponding values for the types of cancer', unique)\n",
        "print('Counts across the types of cancer:', counts)"
      ],
      "execution_count": 2,
      "outputs": [
        {
          "output_type": "stream",
          "name": "stdout",
          "text": [
            "Types of cancer  :  ['malignant' 'benign']\n",
            "Corresponding values for the types of cancer [0 1]\n",
            "Counts across the types of cancer: [212 357]\n"
          ]
        }
      ]
    },
    {
      "cell_type": "code",
      "metadata": {
        "colab": {
          "base_uri": "https://localhost:8080/",
          "height": 281
        },
        "id": "Jgw__HUVwvdT",
        "outputId": "b0e816a2-d9df-44d7-98a9-f3679c46ce94"
      },
      "source": [
        "#Plotting the census of the cancer counts\n",
        "# malignant - 0, benign - 1\n",
        "seaborn.barplot(x=dataset['target_names'], y=counts)\n",
        "plt.title('Dataset counts for cancer by Type')\n",
        "plt.show()"
      ],
      "execution_count": 3,
      "outputs": [
        {
          "output_type": "display_data",
          "data": {
            "image/png": "[encoded data removed]",
            "text/plain": [
              "<Figure size 432x288 with 1 Axes>"
            ]
          },
          "metadata": {
            "needs_background": "light"
          }
        }
      ]
    },
    {
      "cell_type": "code",
      "metadata": {
        "id": "cSHx8rhQykEy"
      },
      "source": [
        "# Collect the data into X and y.\n",
        "# X - Explonatory data and y - target variable\n",
        "X = dataset['data']\n",
        "y = dataset['target'] "
      ],
      "execution_count": 4,
      "outputs": []
    },
    {
      "cell_type": "code",
      "metadata": {
        "id": "RRyk_V6z_aXt"
      },
      "source": [
        "# Normalizing the data for the model to learn from both features with equal magnitude.\n",
        "# The data distribution is Gaussian with zero mean and unit variance \n",
        "from sklearn.preprocessing import StandardScaler\n",
        "standardizer = StandardScaler()\n",
        "X = standardizer.fit_transform(X)"
      ],
      "execution_count": 5,
      "outputs": []
    },
    {
      "cell_type": "code",
      "metadata": {
        "id": "fbg1ytw43A1y"
      },
      "source": [
        "# Data split as training-test 75-25 before traning the model\n",
        "from sklearn.model_selection import train_test_split\n",
        "\n",
        "X_train, X_test, y_train, y_test = train_test_split(X, y , test_size=0.25, random_state=0)"
      ],
      "execution_count": 6,
      "outputs": []
    },
    {
      "cell_type": "code",
      "metadata": {
        "colab": {
          "base_uri": "https://localhost:8080/"
        },
        "id": "8XtLNQ_L-uWj",
        "outputId": "4acb9c01-1f0a-4732-b59f-30e443ede225"
      },
      "source": [
        "# Train the Logistic Regression model using the given training dataset\n",
        "from sklearn.linear_model import LogisticRegression\n",
        "predictiveModel = LogisticRegression()\n",
        "predictiveModel.fit(X_train, y_train)"
      ],
      "execution_count": 7,
      "outputs": [
        {
          "output_type": "execute_result",
          "data": {
            "text/plain": [
              "LogisticRegression(C=1.0, class_weight=None, dual=False, fit_intercept=True,\n",
              "                   intercept_scaling=1, l1_ratio=None, max_iter=100,\n",
              "                   multi_class='auto', n_jobs=None, penalty='l2',\n",
              "                   random_state=None, solver='lbfgs', tol=0.0001, verbose=0,\n",
              "                   warm_start=False)"
            ]
          },
          "metadata": {},
          "execution_count": 7
        }
      ]
    },
    {
      "cell_type": "code",
      "metadata": {
        "id": "C95rOm7q420I"
      },
      "source": [
        "# predict using the test dataset\n",
        "predictions = predictiveModel.predict(X_test)"
      ],
      "execution_count": 8,
      "outputs": []
    },
    {
      "cell_type": "code",
      "metadata": {
        "colab": {
          "base_uri": "https://localhost:8080/",
          "height": 265
        },
        "id": "0nTxNfRS57Fw",
        "outputId": "3c6020dd-b25b-4a79-a3c4-d854d5113341"
      },
      "source": [
        "# calculate the performance metrics for the predictions\n",
        "from sklearn.metrics import confusion_matrix\n",
        "cm = confusion_matrix(y_test, predictions)\n",
        "confusionMatrix = confusion_matrix(y_test, predictions)\n",
        "\n",
        "seaborn.heatmap(confusionMatrix/np.sum(confusionMatrix), annot=True, \n",
        "            fmt='.2%', cmap='Blues')\n",
        "\n",
        "TN, FP, FN, TP = confusionMatrix.ravel()"
      ],
      "execution_count": 9,
      "outputs": [
        {
          "output_type": "display_data",
          "data": {
            "image/png": "[encoded data removed]",
            "text/plain": [
              "<Figure size 432x288 with 2 Axes>"
            ]
          },
          "metadata": {
            "needs_background": "light"
          }
        }
      ]
    },
    {
      "cell_type": "code",
      "metadata": {
        "colab": {
          "base_uri": "https://localhost:8080/"
        },
        "id": "ghv8F5jD74lX",
        "outputId": "06a15320-e244-41dc-afee-b37f65dcd3dc"
      },
      "source": [
        "# Accuracy will be used as supplementary to the above performance metrics\n",
        "accuracy =  (TP+TN) /(TP+FP+TN+FN)\n",
        "print(\"Accuracy of the model: {:.2f}%\".format(accuracy*100))"
      ],
      "execution_count": 10,
      "outputs": [
        {
          "output_type": "stream",
          "name": "stdout",
          "text": [
            "Accuracy of the model: 96.50%\n"
          ]
        }
      ]
    },
    {
      "cell_type": "code",
      "metadata": {
        "id": "Jh4votAEFeCh",
        "colab": {
          "base_uri": "https://localhost:8080/"
        },
        "outputId": "976da6da-b711-41c7-c457-7a3229548de9"
      },
      "source": [
        "error_rate = (FP + FN) / (TP + FP + TN + FN) \n",
        "print(\"Error Rate : {:.2f}%\".format(error_rate))\n"
      ],
      "execution_count": 12,
      "outputs": [
        {
          "output_type": "stream",
          "name": "stdout",
          "text": [
            "Accuracy of the model: 0.03%\n"
          ]
        }
      ]
    },
    {
      "cell_type": "code",
      "metadata": {
        "colab": {
          "base_uri": "https://localhost:8080/"
        },
        "id": "BEjS9HUU0BcL",
        "outputId": "2b501a99-8c29-4ed5-caa9-a26559634368"
      },
      "source": [
        "recall = TP / (TP + FN)\n",
        "print(\"Recall : {:.2f}%\".format(recall*100))"
      ],
      "execution_count": 15,
      "outputs": [
        {
          "output_type": "stream",
          "name": "stdout",
          "text": [
            "Recall : 97.78%\n"
          ]
        }
      ]
    },
    {
      "cell_type": "code",
      "metadata": {
        "colab": {
          "base_uri": "https://localhost:8080/"
        },
        "id": "oAHg0utm0Pcn",
        "outputId": "e709b829-6212-438d-809a-a275a77e07fa"
      },
      "source": [
        "precision = TP / (TP + FP)\n",
        "print(\"Precision : {:.2f}%\".format(precision*100))"
      ],
      "execution_count": 16,
      "outputs": [
        {
          "output_type": "stream",
          "name": "stdout",
          "text": [
            "Precision : 96.70%\n"
          ]
        }
      ]
    },
    {
      "cell_type": "code",
      "metadata": {
        "id": "5chZcbvo0fE-"
      },
      "source": [
        ""
      ],
      "execution_count": null,
      "outputs": []
    }
  ]
}